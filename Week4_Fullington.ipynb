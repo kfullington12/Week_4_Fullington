{
 "cells": [
  {
   "cell_type": "markdown",
   "id": "ce53e25a",
   "metadata": {},
   "source": [
    "# Assignment 4.2 - ( 3.1,3.2, 4.1& 4.2)\n",
    "\n",
    "http://thinkstats2.com\n",
    "\n",
    "Copyright 2016 Allen B. Downey\n",
    "\n",
    "MIT License: https://opensource.org/licenses/MIT"
   ]
  },
  {
   "cell_type": "markdown",
   "id": "b23440c3",
   "metadata": {},
   "source": [
    "## Chapter 3 Exercises"
   ]
  },
  {
   "cell_type": "markdown",
   "id": "01bc9e38",
   "metadata": {},
   "source": [
    "**Exercise:** In Chapter 3 we computed the mean of a sample by adding up\n",
    "the elements and dividing by n.  If you are given a PMF, you can\n",
    "still compute the mean, but the process is slightly different:\n",
    "%\n",
    "$$ \\xbar = \\sum_i p_i~x_i $$\n",
    "%\n",
    "where the $x_i$ are the unique values in the PMF and $p_i=PMF(x_i)$.\n",
    "Similarly, you can compute variance like this:\n",
    "%\n",
    "$$ S^2 = \\sum_i p_i~(x_i - \\xbar)^2 $$\n",
    "% \n",
    "Write functions called `PmfMean` and `PmfVar` that take a\n",
    "Pmf object and compute the mean and variance.  To test these methods,\n",
    "check that they are consistent with the methods `Mean` and `Var`\n",
    "provided by `Pmf`."
   ]
  },
  {
   "cell_type": "code",
   "execution_count": 150,
   "id": "c96c3b99",
   "metadata": {},
   "outputs": [],
   "source": [
    "def PmfMean(pmf):\n",
    "    \"\"\"Computes the mean of a PMF.\n",
    "    Returns:\n",
    "        float mean\n",
    "    \"\"\"\n",
    "    return sum(p * x for x, p in pmf.Items())"
   ]
  },
  {
   "cell_type": "code",
   "execution_count": 151,
   "id": "692fa3d3",
   "metadata": {},
   "outputs": [],
   "source": [
    "def PmfVar(pmf, mu=None):\n",
    "    \"\"\"Computes the variance of a PMF.\n",
    "\n",
    "    Args:\n",
    "        mu: the point around which the variance is computed;\n",
    "            if omitted, computes the mean\n",
    "\n",
    "    Returns:\n",
    "        float variance\n",
    "    \"\"\"\n",
    "    if mu is None:\n",
    "        mu = pmf.Mean()\n",
    "\n",
    "    var = 0.0\n",
    "    for x, p in pmf.d.items():\n",
    "        var += p * (x - mu) ** 2\n",
    "    return var"
   ]
  },
  {
   "cell_type": "markdown",
   "id": "3bc28d92",
   "metadata": {},
   "source": [
    "**Exercise:** Something like the class size paradox appears if you survey children and ask how many children are in their family. Families with many children are more likely to appear in your sample, and families with no children have no chance to be in the sample.\n",
    "\n",
    "Use the NSFG respondent variable `numkdhh` to construct the actual distribution for the number of children under 18 in the respondents' households.\n",
    "\n",
    "Now compute the biased distribution we would see if we surveyed the children and asked them how many children under 18 (including themselves) are in their household.\n",
    "\n",
    "Plot the actual and biased distributions, and compute their means."
   ]
  },
  {
   "cell_type": "code",
   "execution_count": 152,
   "id": "bd35969a",
   "metadata": {},
   "outputs": [],
   "source": [
    "download(\"https://github.com/AllenDowney/ThinkStats2/raw/master/code/2002FemResp.dct\")\n",
    "download(\"https://github.com/AllenDowney/ThinkStats2/raw/master/code/2002FemResp.dat.gz\")"
   ]
  },
  {
   "cell_type": "code",
   "execution_count": 153,
   "id": "ebc3a87d",
   "metadata": {},
   "outputs": [],
   "source": [
    "resp = nsfg.ReadFemResp()"
   ]
  },
  {
   "cell_type": "markdown",
   "id": "7b819f1f",
   "metadata": {},
   "source": [
    "Use the NSFG respondent variable numkdhh to construct the actual distribution for the number of children under 18 in the respondents' households."
   ]
  },
  {
   "cell_type": "code",
   "execution_count": 154,
   "id": "fa943a8f",
   "metadata": {},
   "outputs": [],
   "source": [
    "numkids_pmf = thinkstats2.Pmf(resp.numkdhh, label=\"Num Kids\")"
   ]
  },
  {
   "cell_type": "code",
   "execution_count": 155,
   "id": "b89c58e2",
   "metadata": {},
   "outputs": [
    {
     "data": {
      "text/plain": [
       "Pmf({0: 0.466178202276593, 1: 0.21405207379301322, 2: 0.19625801386889966, 3: 0.08713855815779145, 4: 0.025644380478869556, 5: 0.01072877142483318}, 'Num Kids')"
      ]
     },
     "execution_count": 155,
     "metadata": {},
     "output_type": "execute_result"
    }
   ],
   "source": [
    "numkids_pmf"
   ]
  },
  {
   "cell_type": "code",
   "execution_count": 156,
   "id": "510c6edd",
   "metadata": {},
   "outputs": [
    {
     "data": {
      "image/png": "[encoded data removed]",
      "text/plain": [
       "<Figure size 432x288 with 1 Axes>"
      ]
     },
     "metadata": {
      "needs_background": "light"
     },
     "output_type": "display_data"
    }
   ],
   "source": [
    "# Create histogram of actual number of kids\n",
    "\n",
    "hist = thinkstats2.Hist(resp.numkdhh, label=\"numkdhh\")\n",
    "thinkplot.Hist(hist)\n",
    "thinkplot.Config(xlabel=\"Num Kids\", ylabel=\"Count\")"
   ]
  },
  {
   "cell_type": "code",
   "execution_count": 157,
   "id": "f9c33267",
   "metadata": {},
   "outputs": [
    {
     "data": {
      "image/png": "[encoded data removed]",
      "text/plain": [
       "<Figure size 432x288 with 1 Axes>"
      ]
     },
     "metadata": {
      "needs_background": "light"
     },
     "output_type": "display_data"
    }
   ],
   "source": [
    "# Plot the pmf of number of kids\n",
    "\n",
    "thinkplot.Hist(numkids_pmf)\n",
    "thinkplot.Config(xlabel=\"Num Kids\", ylabel=\"PMF\")"
   ]
  },
  {
   "cell_type": "markdown",
   "id": "54028681",
   "metadata": {},
   "source": [
    "Now compute the biased distribution we would see if we surveyed the children and asked them how many children under 18 (including themselves) are in their household."
   ]
  },
  {
   "cell_type": "code",
   "execution_count": 158,
   "id": "8581c52d",
   "metadata": {},
   "outputs": [],
   "source": [
    "def BiasPmf(numkids_pmf, label):\n",
    "    new_pmf = numkids_pmf.Copy(label=label)\n",
    "\n",
    "    for x, p in numkids_pmf.Items():\n",
    "        new_pmf.Mult(x, x)\n",
    "\n",
    "    new_pmf.Normalize()\n",
    "    return new_pmf"
   ]
  },
  {
   "cell_type": "code",
   "execution_count": 159,
   "id": "4c367c6f",
   "metadata": {},
   "outputs": [
    {
     "data": {
      "text/plain": [
       "Pmf({0: 0.0, 1: 0.20899335717935616, 2: 0.38323965252938175, 3: 0.25523760858456823, 4: 0.10015329586101177, 5: 0.052376085845682166}, 'numkdhh')"
      ]
     },
     "execution_count": 159,
     "metadata": {},
     "output_type": "execute_result"
    }
   ],
   "source": [
    "BiasPmf(numkids_pmf, label = \"numkdhh\")"
   ]
  },
  {
   "cell_type": "markdown",
   "id": "efb77e41",
   "metadata": {},
   "source": [
    "Plot the actual and biased distributions, and compute their means."
   ]
  },
  {
   "cell_type": "code",
   "execution_count": 160,
   "id": "9634c09c",
   "metadata": {},
   "outputs": [
    {
     "data": {
      "image/png": "[encoded data removed]",
      "text/plain": [
       "<Figure size 432x288 with 1 Axes>"
      ]
     },
     "metadata": {
      "needs_background": "light"
     },
     "output_type": "display_data"
    }
   ],
   "source": [
    "# Plot the pmf of actual number of kids (Num Kids) and the biased number of kids (Biased Num Kids)\n",
    "\n",
    "numkids_biased_pmf = BiasPmf(numkids_pmf, label=\"Biased Num Kids\")\n",
    "thinkplot.PrePlot(2)\n",
    "thinkplot.Pmfs([numkids_pmf, numkids_biased_pmf])\n",
    "thinkplot.Config(xlabel=\"Number of Kids\", ylabel=\"PMF\")"
   ]
  },
  {
   "cell_type": "code",
   "execution_count": 161,
   "id": "1b0e1af5",
   "metadata": {},
   "outputs": [
    {
     "name": "stdout",
     "output_type": "stream",
     "text": [
      "Actual mean 1.024205155043831\n",
      "Observed mean 2.403679100664282\n"
     ]
    }
   ],
   "source": [
    "# We can use built in functions to calculate the mean\n",
    "\n",
    "print(\"Actual mean\", numkids_pmf.Mean())\n",
    "print(\"Observed mean\", numkids_biased_pmf.Mean())"
   ]
  },
  {
   "cell_type": "code",
   "execution_count": 162,
   "id": "7c204666",
   "metadata": {},
   "outputs": [
    {
     "data": {
      "text/plain": [
       "1.024205155043831"
      ]
     },
     "execution_count": 162,
     "metadata": {},
     "output_type": "execute_result"
    }
   ],
   "source": [
    "# Or we can use the function that was defined above\n",
    "\n",
    "PmfMean(numkids_pmf)"
   ]
  },
  {
   "cell_type": "code",
   "execution_count": 163,
   "id": "3066b288",
   "metadata": {},
   "outputs": [
    {
     "data": {
      "text/plain": [
       "2.403679100664282"
      ]
     },
     "execution_count": 163,
     "metadata": {},
     "output_type": "execute_result"
    }
   ],
   "source": [
    "PmfMean(numkids_biased_pmf)"
   ]
  },
  {
   "cell_type": "markdown",
   "id": "5b689cc1",
   "metadata": {},
   "source": [
    "# Chapter 4\n",
    "\n",
    "Examples and Exercises from Think Stats, 2nd Edition\n",
    "\n",
    "http://thinkstats2.com\n",
    "\n",
    "Copyright 2016 Allen B. Downey\n",
    "\n",
    "MIT License: https://opensource.org/licenses/MIT"
   ]
  },
  {
   "cell_type": "markdown",
   "id": "410cac7c",
   "metadata": {},
   "source": [
    "## Exercises"
   ]
  },
  {
   "cell_type": "markdown",
   "id": "60fe61ad",
   "metadata": {},
   "source": [
    "**Exercise:** How much did you weigh at birth? If you don’t know, call your mother or someone else who knows. Using the NSFG data (all live births), compute the distribution of birth weights and use it to find your percentile rank. If you were a first baby, find your percentile rank in the distribution for first babies. Otherwise use the distribution for others. If you are in the 90th percentile or higher, call your mother back and apologize."
   ]
  },
  {
   "cell_type": "markdown",
   "id": "9bb7aa29",
   "metadata": {},
   "source": [
    "--Seven pounds eight oz--"
   ]
  },
  {
   "cell_type": "code",
   "execution_count": 164,
   "id": "35815ed5",
   "metadata": {},
   "outputs": [],
   "source": [
    "import first\n",
    "\n",
    "live, firsts, others = first.MakeFrames()"
   ]
  },
  {
   "cell_type": "code",
   "execution_count": 165,
   "id": "56f04307",
   "metadata": {},
   "outputs": [
    {
     "name": "stdout",
     "output_type": "stream",
     "text": [
      "Firsts 4413 4363\n"
     ]
    }
   ],
   "source": [
    "first_wgt = firsts.totalwgt_lb\n",
    "first_wgt_dropna = first_wgt.dropna()\n",
    "print('Firsts', len(first_wgt), len(first_wgt_dropna))\n",
    "\n",
    "first_pmf = thinkstats2.Pmf(first_wgt_dropna, label='first')"
   ]
  },
  {
   "cell_type": "code",
   "execution_count": 166,
   "id": "d19c21b7",
   "metadata": {},
   "outputs": [],
   "source": [
    "def PercentileRank(scores, your_score):\n",
    "    count = 0\n",
    "    for score in scores:\n",
    "        if score <= your_score:\n",
    "            count += 1\n",
    "\n",
    "    percentile_rank = 100.0 * count / len(scores)\n",
    "    return percentile_rank"
   ]
  },
  {
   "cell_type": "code",
   "execution_count": 167,
   "id": "3ad45f92",
   "metadata": {},
   "outputs": [
    {
     "data": {
      "text/plain": [
       "59.09811919329255"
      ]
     },
     "execution_count": 167,
     "metadata": {},
     "output_type": "execute_result"
    }
   ],
   "source": [
    "PercentileRank(first_wgt, 7.5)"
   ]
  },
  {
   "cell_type": "markdown",
   "id": "49c72d04",
   "metadata": {},
   "source": [
    "Exercise: The numbers generated by numpy.random.random are supposed to be uniform between 0 and 1; that is, every value in the range should have the same probability.\n",
    "\n",
    "Generate 1000 numbers from numpy.random.random and plot their PMF. What goes wrong?\n",
    "\n",
    "Now plot the CDF. Is the distribution uniform?"
   ]
  },
  {
   "cell_type": "code",
   "execution_count": 168,
   "id": "c67775b1",
   "metadata": {},
   "outputs": [],
   "source": [
    "from numpy import random"
   ]
  },
  {
   "cell_type": "code",
   "execution_count": 169,
   "id": "0ada9b31",
   "metadata": {},
   "outputs": [],
   "source": [
    "random_array = np.random.random(size=1000)"
   ]
  },
  {
   "cell_type": "code",
   "execution_count": 170,
   "id": "de4acf4d",
   "metadata": {},
   "outputs": [
    {
     "name": "stdout",
     "output_type": "stream",
     "text": [
      "[0.80980361 0.1380275  0.11646776 0.71298689 0.75794514 0.19437551\n",
      " 0.1400863  0.5388804  0.18116964 0.91678321 0.02651885 0.9704293\n",
      " 0.49721326 0.69635827 0.88067726 0.90253321 0.27165056 0.00501812\n",
      " 0.15223722 0.07313028 0.48625479 0.41549483 0.45194693 0.96915065\n",
      " 0.69862434 0.0126055  0.14535535 0.48695466 0.838371   0.28471798\n",
      " 0.1187464  0.80098822 0.10710569 0.57394058 0.06486832 0.23983267\n",
      " 0.57826847 0.22852626 0.38508587 0.42466554 0.04394862 0.61832423\n",
      " 0.0765057  0.83259382 0.44873309 0.44654415 0.53841102 0.35247342\n",
      " 0.65437774 0.19610056 0.63692986 0.77657231 0.57359317 0.58806993\n",
      " 0.45799516 0.98758008 0.57852124 0.3601909  0.59355074 0.10191333\n",
      " 0.66937967 0.38994267 0.79928716 0.3099497  0.11602976 0.31828294\n",
      " 0.86341312 0.44977365 0.69352728 0.41898312 0.01373102 0.00765562\n",
      " 0.35508311 0.13090848 0.52694433 0.47649362 0.22721856 0.6606388\n",
      " 0.14933689 0.21092679 0.98449194 0.24468138 0.38828484 0.99089778\n",
      " 0.18505377 0.06236112 0.82315304 0.11717912 0.09386506 0.82897425\n",
      " 0.19403698 0.36370858 0.03219929 0.85204017 0.0440776  0.85357125\n",
      " 0.48709667 0.75463315 0.86396287 0.42579309 0.49554054 0.48032862\n",
      " 0.56504688 0.82147748 0.80980533 0.10913535 0.82841871 0.89911817\n",
      " 0.55150505 0.61365492 0.07521735 0.37697261 0.65238008 0.25413643\n",
      " 0.44042527 0.83040131 0.69400335 0.76825892 0.76353524 0.37390027\n",
      " 0.65203961 0.20984089 0.44958505 0.4638467  0.127754   0.35573996\n",
      " 0.20331228 0.88047684 0.32558707 0.88028784 0.8528238  0.32742168\n",
      " 0.01944436 0.67803318 0.690295   0.95833874 0.63134587 0.58276598\n",
      " 0.12107684 0.4721797  0.42755894 0.33552027 0.59173865 0.54244348\n",
      " 0.04972149 0.68288444 0.37706483 0.56787186 0.16010231 0.54644884\n",
      " 0.65449512 0.67979408 0.79676697 0.48339726 0.56774132 0.04448855\n",
      " 0.01508027 0.97186991 0.47705648 0.2741537  0.7301769  0.97618728\n",
      " 0.2066045  0.52927542 0.92123399 0.98305579 0.63383155 0.26717125\n",
      " 0.64919442 0.46367874 0.86407352 0.08408122 0.53338613 0.41317457\n",
      " 0.85648624 0.7949373  0.90932519 0.83942127 0.08376485 0.3075391\n",
      " 0.40979044 0.21040412 0.98250233 0.64501914 0.01344399 0.91236505\n",
      " 0.2503376  0.36282835 0.59588975 0.96911687 0.93648381 0.55911997\n",
      " 0.28807806 0.39617738 0.99009544 0.16557679 0.13705687 0.3718737\n",
      " 0.13029476 0.89173522 0.12180203 0.09646119 0.04385084 0.01099026\n",
      " 0.81375669 0.31040528 0.37934476 0.45052431 0.99134874 0.36460638\n",
      " 0.4387548  0.85020685 0.51853189 0.76184205 0.91939742 0.0733713\n",
      " 0.02799051 0.977163   0.92681141 0.23793998 0.34388534 0.04923828\n",
      " 0.19751501 0.39047935 0.27887891 0.47901783 0.23243162 0.6016404\n",
      " 0.0117128  0.89485797 0.38868696 0.65325081 0.23141482 0.35743834\n",
      " 0.65644375 0.23540209 0.25304888 0.93471858 0.14542514 0.75564556\n",
      " 0.08669925 0.63506132 0.45155497 0.65043113 0.00396923 0.71912272\n",
      " 0.8785714  0.61516732 0.77815187 0.7149237  0.58437848 0.4984952\n",
      " 0.50009929 0.19157207 0.29719114 0.35877451 0.32777987 0.11533203\n",
      " 0.72406456 0.39913134 0.02589004 0.62590701 0.97755494 0.09680063\n",
      " 0.27868351 0.00414636 0.64980208 0.9144428  0.53241512 0.75805083\n",
      " 0.68723402 0.24364456 0.83695348 0.17741999 0.16514109 0.65222146\n",
      " 0.50310966 0.04748807 0.498574   0.05850611 0.30553049 0.61700762\n",
      " 0.36191601 0.05870063 0.47425222 0.44442956 0.52991834 0.7910756\n",
      " 0.54559487 0.88441189 0.94065128 0.22515998 0.89654459 0.40260333\n",
      " 0.65198808 0.17156658 0.51758652 0.60249607 0.46525528 0.46319505\n",
      " 0.54415197 0.99018978 0.52345397 0.10162208 0.22700238 0.15669745\n",
      " 0.83994436 0.11258246 0.64538333 0.75112613 0.42240838 0.04620708\n",
      " 0.54150901 0.44153983 0.13690447 0.61170987 0.24748118 0.69113881\n",
      " 0.03804142 0.53656215 0.21304818 0.72231792 0.6195699  0.5901085\n",
      " 0.98770839 0.78477146 0.05595743 0.08040199 0.2806945  0.90253011\n",
      " 0.00748078 0.00937916 0.8708118  0.72469212 0.53649974 0.3985688\n",
      " 0.50480301 0.61215619 0.17319186 0.40262713 0.35583099 0.0132667\n",
      " 0.53828284 0.69774973 0.58913249 0.74455811 0.94661445 0.61615686\n",
      " 0.44795055 0.30767709 0.46352649 0.51625291 0.47384255 0.80498299\n",
      " 0.29175926 0.16000748 0.30766603 0.1208668  0.97309086 0.12793272\n",
      " 0.75600922 0.14004895 0.83285022 0.68133019 0.05091134 0.37472106\n",
      " 0.11709561 0.26246559 0.12681481 0.03738548 0.64743306 0.99751787\n",
      " 0.49709374 0.27848457 0.10947551 0.3798768  0.35571119 0.42032821\n",
      " 0.9409809  0.95297326 0.78542554 0.68097733 0.13976703 0.2965323\n",
      " 0.44186655 0.08889155 0.74686726 0.80102674 0.28247165 0.66977459\n",
      " 0.21246707 0.70359657 0.98103533 0.00255114 0.35249677 0.57704464\n",
      " 0.33142506 0.35025269 0.65657719 0.9688914  0.76731835 0.85401124\n",
      " 0.21837039 0.83092195 0.53463343 0.16788966 0.39561095 0.8277514\n",
      " 0.05098761 0.54676415 0.89318751 0.50525982 0.0187936  0.00509926\n",
      " 0.65813707 0.7731874  0.88624917 0.66217082 0.71694492 0.06865876\n",
      " 0.1770644  0.37170377 0.44582802 0.6065453  0.11202607 0.22760277\n",
      " 0.37424134 0.38774352 0.17026816 0.07895156 0.48000101 0.80282047\n",
      " 0.06897214 0.53008109 0.39924548 0.77881734 0.67655948 0.85333293\n",
      " 0.81281485 0.41270227 0.8046736  0.39063235 0.11402873 0.73396447\n",
      " 0.80738361 0.00279014 0.97076076 0.87832262 0.31604889 0.44074468\n",
      " 0.44091899 0.36723902 0.93356294 0.59061146 0.26318635 0.55188402\n",
      " 0.59932179 0.75168163 0.2504982  0.61195599 0.35904129 0.76435213\n",
      " 0.42693878 0.23209002 0.95786845 0.69500003 0.21315212 0.34518227\n",
      " 0.87653207 0.57656749 0.527668   0.29018085 0.88013835 0.39133356\n",
      " 0.7522685  0.63633868 0.69447109 0.32861128 0.82952979 0.44533886\n",
      " 0.68563202 0.39922999 0.74584746 0.1147451  0.9849236  0.17956265\n",
      " 0.21464788 0.84955274 0.82204138 0.6863058  0.05285284 0.98649354\n",
      " 0.09366937 0.64558428 0.93515044 0.59974511 0.05322482 0.5356973\n",
      " 0.97173227 0.2823967  0.58688494 0.1939612  0.51968545 0.68715335\n",
      " 0.53305984 0.44583409 0.38719202 0.82885562 0.50349742 0.81520316\n",
      " 0.17726647 0.56890558 0.8064645  0.92224368 0.41358647 0.60289574\n",
      " 0.77995563 0.89114439 0.63940929 0.86805669 0.48720111 0.17423444\n",
      " 0.60579563 0.1240914  0.87082297 0.389297   0.86234828 0.02972673\n",
      " 0.22375334 0.19696897 0.04386136 0.34092733 0.81567654 0.75019751\n",
      " 0.44838883 0.54299918 0.63310749 0.33372604 0.36379764 0.73210804\n",
      " 0.86394186 0.13421489 0.75551847 0.44347718 0.14103791 0.1124743\n",
      " 0.81096388 0.10209404 0.29747671 0.37724682 0.25919524 0.99936548\n",
      " 0.36958179 0.17048032 0.52794675 0.86826779 0.16389103 0.00796286\n",
      " 0.35367222 0.72636476 0.08112703 0.64840397 0.02156758 0.76717196\n",
      " 0.28975752 0.23593759 0.53275869 0.89520347 0.74832915 0.30468647\n",
      " 0.34117696 0.49192155 0.28944857 0.00797323 0.14927716 0.67217343\n",
      " 0.8690861  0.99885793 0.18308343 0.55396473 0.58452412 0.89623246\n",
      " 0.61867811 0.73655532 0.87557274 0.51441626 0.10678597 0.12058806\n",
      " 0.93977271 0.75956244 0.78417875 0.55056892 0.13208572 0.10378914\n",
      " 0.99866911 0.32534857 0.62027912 0.23842567 0.20394734 0.12025328\n",
      " 0.41682032 0.64350533 0.6360408  0.5361972  0.63498189 0.14960026\n",
      " 0.69045772 0.09247892 0.66898843 0.45962695 0.88065554 0.03350144\n",
      " 0.77535757 0.32078305 0.81268653 0.69678948 0.25025925 0.6547796\n",
      " 0.71271359 0.53851478 0.58863203 0.53987038 0.40102944 0.53862192\n",
      " 0.53795593 0.38584711 0.46402269 0.15049679 0.61229479 0.48694191\n",
      " 0.48005142 0.53523082 0.3426371  0.58515703 0.98636286 0.09893824\n",
      " 0.11395248 0.60420574 0.96106628 0.64212653 0.59607683 0.69135101\n",
      " 0.04050837 0.983619   0.25103512 0.58296344 0.30500938 0.44467956\n",
      " 0.10668143 0.40931413 0.09596494 0.57273242 0.00183434 0.93843069\n",
      " 0.07968929 0.11078919 0.12113229 0.06016202 0.3867705  0.19483442\n",
      " 0.34340207 0.40139574 0.70016734 0.36853326 0.84609673 0.32551531\n",
      " 0.38414707 0.52969391 0.42449616 0.88349289 0.98068054 0.09589831\n",
      " 0.13932773 0.31654835 0.24726032 0.58123971 0.84261519 0.13816126\n",
      " 0.06252536 0.56196616 0.51981741 0.26582883 0.92260176 0.49901607\n",
      " 0.91426775 0.75750871 0.26165336 0.72958046 0.33027705 0.35374343\n",
      " 0.21294125 0.87490899 0.95882946 0.00730524 0.55839568 0.58895978\n",
      " 0.04811167 0.98017332 0.31852363 0.76825749 0.47950421 0.79907235\n",
      " 0.37208826 0.3363056  0.05263536 0.80651026 0.84351106 0.19875502\n",
      " 0.19578702 0.93977822 0.6431201  0.19084112 0.63790258 0.95660864\n",
      " 0.42813847 0.09218856 0.20033679 0.06775495 0.08673914 0.93548359\n",
      " 0.19494413 0.22757501 0.29388654 0.17464236 0.77832413 0.74861712\n",
      " 0.09128788 0.65360277 0.57980781 0.00199821 0.47305838 0.66493013\n",
      " 0.16001472 0.60224901 0.31572435 0.59306619 0.27573101 0.32817791\n",
      " 0.40587493 0.53227561 0.81033509 0.39039998 0.18146762 0.14731717\n",
      " 0.41281779 0.64804158 0.48690327 0.1153396  0.24456196 0.59723159\n",
      " 0.27296606 0.44126299 0.07906127 0.58969471 0.81625723 0.91219846\n",
      " 0.27274609 0.81216979 0.98797299 0.77652762 0.48332778 0.84761053\n",
      " 0.06139353 0.12332942 0.60046475 0.35464175 0.07943715 0.45096332\n",
      " 0.47020363 0.7828671  0.30507915 0.98044462 0.95974711 0.89987484\n",
      " 0.48672459 0.60859509 0.93648045 0.75367986 0.16691157 0.89809938\n",
      " 0.59757075 0.5538229  0.37626715 0.35570492 0.05231996 0.36752703\n",
      " 0.24896429 0.43523436 0.90191905 0.32853876 0.82931844 0.02703838\n",
      " 0.23317821 0.77910893 0.34199862 0.00937135 0.69373232 0.73500595\n",
      " 0.75031274 0.42650474 0.32138485 0.14678915 0.76083221 0.05734366\n",
      " 0.53179898 0.6691741  0.84112702 0.75354771 0.0907428  0.79060621\n",
      " 0.52274619 0.3513598  0.5619511  0.12267492 0.83899978 0.1972207\n",
      " 0.65352299 0.53244855 0.75224351 0.16943098 0.84564642 0.7191949\n",
      " 0.86037993 0.06781221 0.47327161 0.85060068 0.03929008 0.78743824\n",
      " 0.11586569 0.8558265  0.87555742 0.32262087 0.26630871 0.51101035\n",
      " 0.40852996 0.22919526 0.00600531 0.38344511 0.38393446 0.09225427\n",
      " 0.16338028 0.19664694 0.00533367 0.5595893  0.22471918 0.10091037\n",
      " 0.40018798 0.00428177 0.36975757 0.84378437 0.19326477 0.30691855\n",
      " 0.86096722 0.03859478 0.5896621  0.6347581  0.78860111 0.71593079\n",
      " 0.77499587 0.67352433 0.24288274 0.90402984 0.74546456 0.83914448\n",
      " 0.85924048 0.12221942 0.59368546 0.68731641 0.19935646 0.70650382\n",
      " 0.22231292 0.3937207  0.7898717  0.98076039 0.75996988 0.66083013\n",
      " 0.93898426 0.43107674 0.53272156 0.73949469 0.32371261 0.74239181\n",
      " 0.68018463 0.6902665  0.43054004 0.59473497 0.54079663 0.81080562\n",
      " 0.80059523 0.08115497 0.8754805  0.23609887 0.11778661 0.9968974\n",
      " 0.33161116 0.05042201 0.82503589 0.47201843 0.51374065 0.35621305\n",
      " 0.75350113 0.85734895 0.7120776  0.80000116 0.42057453 0.77702688\n",
      " 0.87755357 0.01823172 0.91218411 0.30826145 0.26824561 0.63456309\n",
      " 0.88553496 0.43245051 0.75845511 0.77526142 0.78464634 0.7644817\n",
      " 0.04988945 0.78814163 0.37638475 0.22239368 0.26638446 0.05859333\n",
      " 0.51083688 0.53596324 0.59470361 0.53844148 0.78482952 0.12264344\n",
      " 0.26833493 0.67878356 0.28312674 0.75158989 0.6509843  0.18378573\n",
      " 0.92898784 0.36439421 0.47331507 0.76657442 0.91513941 0.42309791\n",
      " 0.81831836 0.24173783 0.30804927 0.11433216 0.95277105 0.05973922\n",
      " 0.12414374 0.97597227 0.66189812 0.26959372 0.94642732 0.36051807\n",
      " 0.08672138 0.33270654 0.86967912 0.42772423 0.79904862 0.44012996\n",
      " 0.15881532 0.41542863 0.01572325 0.39643307 0.83257344 0.81098923\n",
      " 0.28892455 0.76533282 0.223131   0.50631729 0.84364593 0.70286853\n",
      " 0.68920867 0.00847322 0.76747574 0.44462185 0.09130141 0.86018065\n",
      " 0.35531676 0.67937363 0.53780328 0.83452511 0.82821355 0.0901995\n",
      " 0.49559336 0.68940248 0.17099139 0.08156192 0.12002947 0.78271339\n",
      " 0.46456058 0.89790702 0.4201448  0.75651589 0.71744519 0.29447854\n",
      " 0.35747383 0.57769661 0.98069031 0.54072356]\n"
     ]
    }
   ],
   "source": [
    "print(random_array)"
   ]
  },
  {
   "cell_type": "code",
   "execution_count": 171,
   "id": "c8f28d4f",
   "metadata": {},
   "outputs": [],
   "source": [
    "random_pmf = thinkstats2.Pmf(random_array, label='Random')"
   ]
  },
  {
   "cell_type": "code",
   "execution_count": 172,
   "id": "2bc478e9",
   "metadata": {},
   "outputs": [
    {
     "data": {
      "text/plain": [
       "Pmf({0.8098036079773376: 0.001, 0.138027496683649: 0.001, 0.11646775713896951: 0.001, 0.7129868920482827: 0.001, 0.7579451362098165: 0.001, 0.19437550553699778: 0.001, 0.1400863017935179: 0.001, 0.5388803990995258: 0.001, 0.18116963897189853: 0.001, 0.9167832062117565: 0.001, 0.02651884808755145: 0.001, 0.9704292997871351: 0.001, 0.49721325744421807: 0.001, 0.6963582664450773: 0.001, 0.880677262648707: 0.001, 0.9025332114207351: 0.001, 0.2716505572954543: 0.001, 0.005018116502945591: 0.001, 0.15223722053696442: 0.001, 0.07313027613117873: 0.001, 0.48625478541340594: 0.001, 0.41549482929432824: 0.001, 0.45194693484333626: 0.001, 0.9691506450420915: 0.001, 0.6986243441650214: 0.001, 0.012605495879090878: 0.001, 0.1453553527005378: 0.001, 0.4869546644273791: 0.001, 0.838370997365755: 0.001, 0.2847179840702163: 0.001, 0.11874639805597298: 0.001, 0.8009882231091029: 0.001, 0.10710568535870224: 0.001, 0.5739405825133861: 0.001, 0.06486831805113291: 0.001, 0.23983266955339955: 0.001, 0.5782684721099931: 0.001, 0.22852626497411488: 0.001, 0.3850858704917062: 0.001, 0.4246655419669656: 0.001, 0.0439486169161355: 0.001, 0.6183242340951025: 0.001, 0.07650569682889485: 0.001, 0.8325938234710317: 0.001, 0.4487330861501918: 0.001, 0.44654414767966244: 0.001, 0.5384110196918537: 0.001, 0.35247341909967644: 0.001, 0.654377742608012: 0.001, 0.19610056189799696: 0.001, 0.6369298565127585: 0.001, 0.7765723126956582: 0.001, 0.5735931706745032: 0.001, 0.5880699263507905: 0.001, 0.45799515677227864: 0.001, 0.9875800845720212: 0.001, 0.5785212360838101: 0.001, 0.360190901984613: 0.001, 0.5935507446491443: 0.001, 0.10191333138458225: 0.001, 0.6693796685362084: 0.001, 0.38994267010599537: 0.001, 0.7992871575208482: 0.001, 0.3099496984825101: 0.001, 0.1160297602220125: 0.001, 0.31828293856390166: 0.001, 0.8634131160537315: 0.001, 0.44977365405099956: 0.001, 0.6935272791264829: 0.001, 0.4189831183623487: 0.001, 0.013731024278271442: 0.001, 0.007655619688489046: 0.001, 0.355083108614061: 0.001, 0.13090847516970183: 0.001, 0.5269443285355454: 0.001, 0.4764936205905609: 0.001, 0.22721855760338572: 0.001, 0.6606387998522418: 0.001, 0.14933689467930344: 0.001, 0.21092678916882313: 0.001, 0.9844919432794942: 0.001, 0.24468137619266683: 0.001, 0.3882848400110869: 0.001, 0.9908977836573956: 0.001, 0.1850537742870555: 0.001, 0.062361124971663795: 0.001, 0.8231530391171695: 0.001, 0.1171791210272608: 0.001, 0.09386506294020502: 0.001, 0.8289742462576328: 0.001, 0.19403697805913256: 0.001, 0.36370857580935256: 0.001, 0.032199292725952566: 0.001, 0.8520401729508613: 0.001, 0.04407760019698759: 0.001, 0.8535712476383873: 0.001, 0.48709667385551136: 0.001, 0.7546331533510081: 0.001, 0.8639628690911502: 0.001, 0.4257930875760726: 0.001, 0.4955405351063821: 0.001, 0.4803286168288995: 0.001, 0.5650468792881957: 0.001, 0.821477483138158: 0.001, 0.8098053269936065: 0.001, 0.10913535169513311: 0.001, 0.8284187139071654: 0.001, 0.8991181724557787: 0.001, 0.5515050537040632: 0.001, 0.6136549185251811: 0.001, 0.07521734645539846: 0.001, 0.3769726070004773: 0.001, 0.6523800790394146: 0.001, 0.2541364275160314: 0.001, 0.4404252746235531: 0.001, 0.8304013123114583: 0.001, 0.694003352188236: 0.001, 0.7682589176800018: 0.001, 0.7635352434753205: 0.001, 0.37390026823347866: 0.001, 0.6520396106539027: 0.001, 0.20984089325208577: 0.001, 0.4495850484163718: 0.001, 0.463846699542404: 0.001, 0.12775400177854113: 0.001, 0.35573995640392864: 0.001, 0.2033122788116033: 0.001, 0.8804768359931848: 0.001, 0.32558706857798403: 0.001, 0.880287838420237: 0.001, 0.8528237974044793: 0.001, 0.3274216803964748: 0.001, 0.01944436106032832: 0.001, 0.6780331761722254: 0.001, 0.6902950022155258: 0.001, 0.958338737349145: 0.001, 0.631345866335416: 0.001, 0.582765976701735: 0.001, 0.12107684307774369: 0.001, 0.4721797017691646: 0.001, 0.4275589390613548: 0.001, 0.3355202682380082: 0.001, 0.5917386549408679: 0.001, 0.542443475496862: 0.001, 0.04972148633835971: 0.001, 0.6828844375207073: 0.001, 0.37706483113678224: 0.001, 0.5678718636535465: 0.001, 0.16010231450025048: 0.001, 0.5464488357766617: 0.001, 0.6544951179830384: 0.001, 0.679794082654491: 0.001, 0.7967669701567378: 0.001, 0.48339726386480963: 0.001, 0.5677413221875306: 0.001, 0.04448854577430095: 0.001, 0.015080272393980021: 0.001, 0.9718699054692046: 0.001, 0.47705648081896035: 0.001, 0.27415369958232083: 0.001, 0.7301769024889276: 0.001, 0.976187281334417: 0.001, 0.20660450164282418: 0.001, 0.5292754218898823: 0.001, 0.921233987659511: 0.001, 0.9830557920999669: 0.001, 0.6338315503025806: 0.001, 0.2671712534429951: 0.001, 0.6491944242974452: 0.001, 0.4636787435809142: 0.001, 0.8640735164359258: 0.001, 0.08408122100185311: 0.001, 0.5333861344037508: 0.001, 0.4131745732354086: 0.001, 0.8564862445391204: 0.001, 0.7949372974481685: 0.001, 0.9093251948619275: 0.001, 0.8394212739053118: 0.001, 0.08376484735863143: 0.001, 0.30753909508472255: 0.001, 0.40979043580120367: 0.001, 0.21040412410675413: 0.001, 0.9825023292248541: 0.001, 0.6450191407978435: 0.001, 0.013443992399399751: 0.001, 0.9123650469495074: 0.001, 0.25033759502280595: 0.001, 0.3628283488356814: 0.001, 0.5958897524374998: 0.001, 0.9691168691781039: 0.001, 0.9364838052082342: 0.001, 0.5591199711852203: 0.001, 0.28807806439919403: 0.001, 0.39617737959599053: 0.001, 0.9900954428111308: 0.001, 0.1655767867389366: 0.001, 0.13705686987872545: 0.001, 0.37187369800063386: 0.001, 0.13029476333538204: 0.001, 0.8917352175755049: 0.001, 0.1218020326765955: 0.001, 0.09646118925925784: 0.001, 0.04385084375823989: 0.001, 0.010990255893144618: 0.001, 0.8137566869906514: 0.001, 0.3104052841665953: 0.001, 0.3793447576471366: 0.001, 0.4505243129947455: 0.001, 0.9913487368507121: 0.001, 0.3646063839835364: 0.001, 0.43875480356534324: 0.001, 0.8502068459211806: 0.001, 0.5185318903783075: 0.001, 0.7618420455023132: 0.001, 0.9193974232170106: 0.001, 0.07337130334344766: 0.001, 0.027990513069234724: 0.001, 0.9771629998411127: 0.001, 0.9268114067701477: 0.001, 0.23793997522592591: 0.001, 0.34388533963361534: 0.001, 0.049238281671976414: 0.001, 0.1975150087473465: 0.001, 0.390479352591968: 0.001, 0.27887890500497825: 0.001, 0.4790178331960536: 0.001, 0.23243162290838626: 0.001, 0.6016403979295041: 0.001, 0.011712796438908324: 0.001, 0.8948579699846102: 0.001, 0.38868696063819796: 0.001, 0.6532508086712279: 0.001, 0.23141481541132247: 0.001, 0.3574383402851189: 0.001, 0.6564437538754204: 0.001, 0.23540208789559958: 0.001, 0.2530488795816701: 0.001, 0.9347185788676704: 0.001, 0.1454251448508923: 0.001, 0.7556455594822605: 0.001, 0.08669924965268161: 0.001, 0.63506131573186: 0.001, 0.4515549704155274: 0.001, 0.6504311269815796: 0.001, 0.003969233696118901: 0.001, 0.7191227190061085: 0.001, 0.8785714007943808: 0.001, 0.615167320815189: 0.001, 0.7781518703435794: 0.001, 0.7149236999602867: 0.001, 0.5843784801585209: 0.001, 0.4984952025188928: 0.001, 0.5000992920770924: 0.001, 0.19157207391051256: 0.001, 0.29719114190944296: 0.001, 0.35877450734889393: 0.001, 0.3277798710718549: 0.001, 0.11533203491989508: 0.001, 0.724064557406358: 0.001, 0.39913134271924533: 0.001, 0.02589004462532285: 0.001, 0.6259070089977724: 0.001, 0.9775549416579681: 0.001, 0.09680062627512698: 0.001, 0.2786835097817465: 0.001, 0.0041463585200564035: 0.001, 0.6498020822755268: 0.001, 0.9144427987817292: 0.001, 0.5324151175862399: 0.001, 0.7580508262660854: 0.001, 0.6872340220962714: 0.001, 0.2436445559903806: 0.001, 0.836953476247971: 0.001, 0.17741999257347385: 0.001, 0.16514109303763358: 0.001, 0.6522214634032905: 0.001, 0.5031096586820575: 0.001, 0.047488070155505824: 0.001, 0.49857399882125697: 0.001, 0.05850611214069501: 0.001, 0.3055304851011228: 0.001, 0.6170076232460824: 0.001, 0.3619160060790846: 0.001, 0.05870063328511821: 0.001, 0.4742522191529386: 0.001, 0.4444295606098867: 0.001, 0.5299183371255677: 0.001, 0.791075597942124: 0.001, 0.5455948696303689: 0.001, 0.8844118895116022: 0.001, 0.9406512848238475: 0.001, 0.22515997636248875: 0.001, 0.8965445947410964: 0.001, 0.402603329011361: 0.001, 0.6519880787087592: 0.001, 0.17156658048529916: 0.001, 0.517586523221896: 0.001, 0.6024960739724291: 0.001, 0.4652552787940889: 0.001, 0.4631950523018371: 0.001, 0.5441519659397148: 0.001, 0.990189784060388: 0.001, 0.5234539734770953: 0.001, 0.10162208176973819: 0.001, 0.22700237889420938: 0.001, 0.15669745016645242: 0.001, 0.8399443592142533: 0.001, 0.11258246169308839: 0.001, 0.6453833263547963: 0.001, 0.7511261345207102: 0.001, 0.4224083770317041: 0.001, 0.04620708000652185: 0.001, 0.5415090121006572: 0.001, 0.4415398252243087: 0.001, 0.1369044722164754: 0.001, 0.6117098654272906: 0.001, 0.24748118020891263: 0.001, 0.6911388131403381: 0.001, 0.038041421982415: 0.001, 0.5365621474428999: 0.001, 0.2130481820741752: 0.001, 0.7223179206825177: 0.001, 0.6195698958060349: 0.001, 0.5901085040989997: 0.001, 0.9877083922436645: 0.001, 0.7847714588978791: 0.001, 0.05595743057672997: 0.001, 0.08040199073530219: 0.001, 0.28069449856619055: 0.001, 0.9025301141039422: 0.001, 0.007480775068550494: 0.001, 0.009379158636559581: 0.001, 0.8708118027799018: 0.001, 0.7246921210475128: 0.001, 0.536499737905896: 0.001, 0.3985687953871041: 0.001, 0.5048030119451199: 0.001, 0.6121561934825108: 0.001, 0.17319185716284224: 0.001, 0.4026271263913723: 0.001, 0.3558309905627053: 0.001, 0.013266702379529427: 0.001, 0.538282842126164: 0.001, 0.6977497326615834: 0.001, 0.5891324901387878: 0.001, 0.7445581145098166: 0.001, 0.9466144491287377: 0.001, 0.6161568635106817: 0.001, 0.44795054633719733: 0.001, 0.3076770893526998: 0.001, 0.46352649043890504: 0.001, 0.5162529074558478: 0.001, 0.47384255304133904: 0.001, 0.8049829904865665: 0.001, 0.29175925774000855: 0.001, 0.16000748056771275: 0.001, 0.3076660270899737: 0.001, 0.12086679796119992: 0.001, 0.9730908581374956: 0.001, 0.12793272187965954: 0.001, 0.7560092150521427: 0.001, 0.14004894650375643: 0.001, 0.832850220096995: 0.001, 0.681330194547806: 0.001, 0.05091134359838445: 0.001, 0.37472105713653725: 0.001, 0.11709560811762287: 0.001, 0.26246558890128036: 0.001, 0.1268148116985981: 0.001, 0.037385478669551886: 0.001, 0.6474330585737575: 0.001, 0.9975178735406673: 0.001, 0.497093737057998: 0.001, 0.27848457060887744: 0.001, 0.10947550550202445: 0.001, 0.37987680471459473: 0.001, 0.35571118821518655: 0.001, 0.4203282106092531: 0.001, 0.9409809001228812: 0.001, 0.9529732643040824: 0.001, 0.7854255401282331: 0.001, 0.6809773316291039: 0.001, 0.13976702782795036: 0.001, 0.2965322997214087: 0.001, 0.44186655364083993: 0.001, 0.088891548573093: 0.001, 0.7468672570853333: 0.001, 0.8010267400283333: 0.001, 0.28247165093349647: 0.001, 0.6697745923986131: 0.001, 0.2124670721632118: 0.001, 0.7035965725348982: 0.001, 0.9810353271970663: 0.001, 0.0025511408062527385: 0.001, 0.35249676828891063: 0.001, 0.5770446364713813: 0.001, 0.33142505964347724: 0.001, 0.35025268649855545: 0.001, 0.6565771908056377: 0.001, 0.9688914028549027: 0.001, 0.7673183530020213: 0.001, 0.8540112353768874: 0.001, 0.218370388825865: 0.001, 0.8309219463725968: 0.001, 0.5346334286807064: 0.001, 0.16788966353296597: 0.001, 0.3956109489256211: 0.001, 0.8277513956823976: 0.001, 0.05098760746006181: 0.001, 0.5467641469020961: 0.001, 0.8931875061446293: 0.001, 0.5052598177076809: 0.001, 0.018793596052394168: 0.001, 0.00509925836586167: 0.001, 0.6581370725734262: 0.001, 0.7731873989083878: 0.001, 0.8862491651249884: 0.001, 0.6621708161670332: 0.001, 0.7169449210238051: 0.001, 0.06865875779712727: 0.001, 0.17706439682844588: 0.001, 0.3717037678607956: 0.001, 0.4458280187582965: 0.001, 0.6065453000959509: 0.001, 0.11202606880317922: 0.001, 0.22760277262316753: 0.001, 0.37424134110459484: 0.001, 0.3877435173793784: 0.001, 0.17026816260800692: 0.001, 0.0789515557447924: 0.001, 0.48000100770346776: 0.001, 0.8028204711572218: 0.001, 0.06897213838168692: 0.001, 0.5300810933329991: 0.001, 0.3992454760659533: 0.001, 0.7788173416222645: 0.001, 0.6765594821566013: 0.001, 0.8533329298032916: 0.001, 0.8128148526656541: 0.001, 0.41270227015297933: 0.001, 0.8046736022232334: 0.001, 0.39063235410793795: 0.001, 0.11402872884175563: 0.001, 0.7339644665554671: 0.001, 0.807383607399928: 0.001, 0.002790138518112495: 0.001, 0.9707607646476729: 0.001, 0.8783226163031218: 0.001, 0.3160488947680724: 0.001, 0.4407446831467152: 0.001, 0.4409189948887867: 0.001, 0.3672390192056767: 0.001, 0.9335629418136151: 0.001, 0.5906114625114961: 0.001, 0.26318634788549344: 0.001, 0.5518840173371965: 0.001, 0.5993217862807517: 0.001, 0.7516816311433431: 0.001, 0.2504982015530519: 0.001, 0.6119559850115853: 0.001, 0.3590412892283976: 0.001, 0.7643521281880116: 0.001, 0.4269387813435336: 0.001, 0.23209002261607048: 0.001, 0.9578684460611987: 0.001, 0.6950000349347809: 0.001, 0.21315211819627644: 0.001, 0.34518227010364133: 0.001, 0.8765320683240947: 0.001, 0.5765674860306551: 0.001, 0.5276680005264783: 0.001, 0.2901808467724547: 0.001, 0.880138350311928: 0.001, 0.3913335606829973: 0.001, 0.7522685004552088: 0.001, 0.636338675772331: 0.001, 0.6944710860099119: 0.001, 0.32861127606940554: 0.001, 0.8295297913422246: 0.001, 0.4453388632444777: 0.001, 0.6856320217040875: 0.001, 0.39922998624539785: 0.001, 0.7458474568690784: 0.001, 0.11474509932657573: 0.001, 0.9849235966057541: 0.001, 0.17956265019950501: 0.001, 0.21464788069768015: 0.001, 0.8495527436641804: 0.001, 0.8220413826103299: 0.001, 0.6863057952212599: 0.001, 0.05285284018295322: 0.001, 0.9864935426805789: 0.001, 0.09366936781699953: 0.001, 0.6455842829989943: 0.001, 0.9351504375706254: 0.001, 0.5997451082705122: 0.001, 0.053224817065201435: 0.001, 0.5356973005442128: 0.001, 0.9717322687677611: 0.001, 0.2823967026538168: 0.001, 0.5868849427530844: 0.001, 0.19396119981449422: 0.001, 0.5196854484060873: 0.001, 0.6871533485929051: 0.001, 0.5330598376778174: 0.001, 0.44583409249431316: 0.001, 0.38719202259518604: 0.001, 0.8288556210607357: 0.001, 0.5034974174013396: 0.001, 0.8152031612582168: 0.001, 0.1772664745284367: 0.001, 0.5689055781449871: 0.001, 0.8064644988891478: 0.001, 0.9222436814296269: 0.001, 0.41358647467872367: 0.001, 0.6028957434020094: 0.001, 0.77995562539362: 0.001, 0.8911443884526059: 0.001, 0.6394092875323929: 0.001, 0.868056688975844: 0.001, 0.48720111206007033: 0.001, 0.17423444374409736: 0.001, 0.6057956318490231: 0.001, 0.12409139608558994: 0.001, 0.8708229743096326: 0.001, 0.38929699807876206: 0.001, 0.8623482821423974: 0.001, 0.02972672947998789: 0.001, 0.22375334138392744: 0.001, 0.1969689651792872: 0.001, 0.043861361411779765: 0.001, 0.34092732782423674: 0.001, 0.8156765437999071: 0.001, 0.7501975126961717: 0.001, 0.448388827503885: 0.001, 0.542999179668465: 0.001, 0.6331074878442806: 0.001, 0.33372603810360757: 0.001, 0.36379763518453545: 0.001, 0.7321080426550475: 0.001, 0.8639418614280483: 0.001, 0.13421489133922182: 0.001, 0.755518472473864: 0.001, 0.443477179521948: 0.001, 0.14103790554248152: 0.001, 0.11247429566659017: 0.001, 0.810963876879533: 0.001, 0.10209403975883313: 0.001, 0.2974767140565583: 0.001, 0.3772468216083906: 0.001, 0.2591952444364656: 0.001, 0.9993654754805236: 0.001, 0.36958178974251943: 0.001, 0.17048031638446492: 0.001, 0.527946750064181: 0.001, 0.8682677908896089: 0.001, 0.16389103471696076: 0.001, 0.007962855390174717: 0.001, 0.35367221660647064: 0.001, 0.7263647638262878: 0.001, 0.08112703128980558: 0.001, 0.6484039748171918: 0.001, 0.021567576429355806: 0.001, 0.767171962198886: 0.001, 0.28975752469578275: 0.001, 0.23593759251464907: 0.001, 0.5327586917561251: 0.001, 0.8952034696078232: 0.001, 0.7483291514468831: 0.001, 0.3046864730289732: 0.001, 0.3411769620696695: 0.001, 0.4919215485797701: 0.001, 0.2894485685522762: 0.001, 0.00797323033354369: 0.001, 0.14927716273664304: 0.001, 0.6721734282399668: 0.001, 0.8690861031163576: 0.001, 0.9988579259474343: 0.001, 0.18308343019439455: 0.001, 0.5539647326991708: 0.001, 0.5845241150386807: 0.001, 0.896232464568141: 0.001, 0.6186781124304621: 0.001, 0.7365553224117601: 0.001, 0.8755727425382264: 0.001, 0.5144162587318197: 0.001, 0.10678596952017128: 0.001, 0.12058806126889443: 0.001, 0.9397727085236944: 0.001, 0.7595624404200016: 0.001, 0.7841787481207826: 0.001, 0.5505689170785437: 0.001, 0.13208572174849043: 0.001, 0.10378914335831047: 0.001, 0.9986691082405345: 0.001, 0.32534857202301204: 0.001, 0.6202791192872702: 0.001, 0.23842566500774176: 0.001, 0.2039473358373779: 0.001, 0.12025327978962574: 0.001, 0.4168203221813116: 0.001, 0.6435053276532584: 0.001, 0.6360407990536241: 0.001, 0.5361971951462412: 0.001, 0.6349818869128588: 0.001, 0.14960025831333068: 0.001, 0.6904577230839668: 0.001, 0.09247892451763817: 0.001, 0.6689884318405585: 0.001, 0.45962694957368555: 0.001, 0.8806555366734826: 0.001, 0.03350143608759781: 0.001, 0.7753575703994432: 0.001, 0.32078304591688445: 0.001, 0.8126865291596826: 0.001, 0.6967894777736766: 0.001, 0.25025924637940544: 0.001, 0.6547796043690994: 0.001, 0.7127135933647729: 0.001, 0.5385147792806916: 0.001, 0.5886320328046922: 0.001, 0.5398703825183001: 0.001, 0.40102944103227356: 0.001, 0.5386219178377751: 0.001, 0.5379559335937141: 0.001, 0.38584710986447446: 0.001, 0.4640226912222103: 0.001, 0.1504967873632207: 0.001, 0.6122947864473623: 0.001, 0.48694191177437385: 0.001, 0.4800514178228247: 0.001, 0.5352308150707277: 0.001, 0.3426371016421971: 0.001, 0.585157027263231: 0.001, 0.986362863531199: 0.001, 0.09893823888515862: 0.001, 0.11395248027962313: 0.001, 0.6042057390734311: 0.001, 0.9610662791475608: 0.001, 0.6421265316433312: 0.001, 0.5960768263330766: 0.001, 0.6913510085901334: 0.001, 0.04050837280591346: 0.001, 0.9836190006814837: 0.001, 0.25103511612069573: 0.001, 0.5829634366480697: 0.001, 0.3050093807447436: 0.001, 0.44467955811517146: 0.001, 0.10668142648222723: 0.001, 0.409314134790008: 0.001, 0.09596493779007653: 0.001, 0.5727324183307818: 0.001, 0.0018343377956805407: 0.001, 0.938430691838164: 0.001, 0.07968928728149394: 0.001, 0.11078919375417262: 0.001, 0.12113229415971583: 0.001, 0.06016202161983941: 0.001, 0.3867704977275688: 0.001, 0.1948344194259406: 0.001, 0.34340206819554: 0.001, 0.40139573789169225: 0.001, 0.7001673386016661: 0.001, 0.36853326339526105: 0.001, 0.8460967281167636: 0.001, 0.32551530641208704: 0.001, 0.3841470703999119: 0.001, 0.5296939138195481: 0.001, 0.42449615920644623: 0.001, 0.883492890797747: 0.001, 0.980680541471561: 0.001, 0.09589830907817964: 0.001, 0.13932773096538587: 0.001, 0.316548351726072: 0.001, 0.24726032340299342: 0.001, 0.5812397134872787: 0.001, 0.8426151924385322: 0.001, 0.1381612619055671: 0.001, 0.06252535914364787: 0.001, 0.5619661582961478: 0.001, 0.519817409104776: 0.001, 0.2658288345281675: 0.001, 0.9226017564668796: 0.001, 0.49901607354015476: 0.001, 0.9142677459785897: 0.001, 0.7575087147336564: 0.001, 0.2616533591857422: 0.001, 0.7295804629800036: 0.001, 0.33027704744025776: 0.001, 0.3537434264636625: 0.001, 0.21294124759853827: 0.001, 0.8749089855217601: 0.001, 0.9588294573147575: 0.001, 0.007305242716507676: 0.001, 0.5583956762600631: 0.001, 0.5889597800210492: 0.001, 0.04811166792938604: 0.001, 0.9801733228135567: 0.001, 0.3185236291630634: 0.001, 0.7682574900409461: 0.001, 0.4795042144771312: 0.001, 0.7990723548559613: 0.001, 0.3720882639301234: 0.001, 0.3363056045478483: 0.001, 0.05263535606773673: 0.001, 0.806510263274277: 0.001, 0.8435110591097661: 0.001, 0.1987550217653531: 0.001, 0.19578701927504139: 0.001, 0.9397782238749623: 0.001, 0.643120099536967: 0.001, 0.19084112157933697: 0.001, 0.6379025826786469: 0.001, 0.9566086419868958: 0.001, 0.4281384690988218: 0.001, 0.09218856051250524: 0.001, 0.20033678735287175: 0.001, 0.06775495385478325: 0.001, 0.08673914475545419: 0.001, 0.9354835909009106: 0.001, 0.19494413324914484: 0.001, 0.22757501080239506: 0.001, 0.2938865383541528: 0.001, 0.1746423625148783: 0.001, 0.7783241323772858: 0.001, 0.7486171182349133: 0.001, 0.09128788097259088: 0.001, 0.6536027684162266: 0.001, 0.5798078066964962: 0.001, 0.0019982054563090212: 0.001, 0.4730583784202833: 0.001, 0.6649301326175936: 0.001, 0.1600147246068201: 0.001, 0.6022490117279284: 0.001, 0.3157243470699328: 0.001, 0.5930661928910071: 0.001, 0.2757310141347771: 0.001, 0.328177905506732: 0.001, 0.40587493232252436: 0.001, 0.5322756117592556: 0.001, 0.8103350908718446: 0.001, 0.3903999803301391: 0.001, 0.1814676185617483: 0.001, 0.14731716901344782: 0.001, 0.41281778755823884: 0.001, 0.6480415798076032: 0.001, 0.48690327478844353: 0.001, 0.11533959858669096: 0.001, 0.24456196375731099: 0.001, 0.5972315947948976: 0.001, 0.2729660602641135: 0.001, 0.4412629885416053: 0.001, 0.07906127153473785: 0.001, 0.5896947081790168: 0.001, 0.8162572302161164: 0.001, 0.9121984598619135: 0.001, 0.2727460883277206: 0.001, 0.8121697863502663: 0.001, 0.9879729852367299: 0.001, 0.7765276219358191: 0.001, 0.4833277833960302: 0.001, 0.8476105251088444: 0.001, 0.061393526484274985: 0.001, 0.1233294235548883: 0.001, 0.600464746289036: 0.001, 0.35464174584673847: 0.001, 0.07943714798182178: 0.001, 0.45096331935934275: 0.001, 0.4702036340951452: 0.001, 0.7828670965674515: 0.001, 0.30507914854623874: 0.001, 0.9804446167625214: 0.001, 0.9597471142437851: 0.001, 0.8998748384147649: 0.001, 0.48672459401312684: 0.001, 0.6085950863839883: 0.001, 0.936480446716062: 0.001, 0.7536798557161422: 0.001, 0.16691156879522062: 0.001, 0.8980993801552516: 0.001, 0.5975707538984341: 0.001, 0.5538228970212842: 0.001, 0.3762671498645621: 0.001, 0.3557049226394836: 0.001, 0.05231995802418854: 0.001, 0.3675270315383016: 0.001, 0.24896428660857695: 0.001, 0.4352343644286828: 0.001, 0.9019190538721774: 0.001, 0.3285387582445921: 0.001, 0.8293184400280825: 0.001, 0.02703837574516821: 0.001, 0.23317821240129089: 0.001, 0.7791089277616065: 0.001, 0.3419986182435222: 0.001, 0.009371346830284177: 0.001, 0.6937323188456428: 0.001, 0.735005949678658: 0.001, 0.7503127405766754: 0.001, 0.42650473642738607: 0.001, 0.32138484536622536: 0.001, 0.14678915326160658: 0.001, 0.7608322128842648: 0.001, 0.057343660080500736: 0.001, 0.5317989821851298: 0.001, 0.6691740972457338: 0.001, 0.841127015218238: 0.001, 0.7535477102761298: 0.001, 0.09074280337652973: 0.001, 0.7906062103334399: 0.001, 0.5227461943888007: 0.001, 0.35135980093027286: 0.001, 0.56195109581634: 0.001, 0.1226749213491255: 0.001, 0.8389997823254743: 0.001, 0.19722069788482133: 0.001, 0.6535229938018682: 0.001, 0.5324485478786095: 0.001, 0.7522435064674213: 0.001, 0.16943097561988896: 0.001, 0.8456464229410047: 0.001, 0.71919490426288: 0.001, 0.8603799256319306: 0.001, 0.06781220561814882: 0.001, 0.47327161064765555: 0.001, 0.8506006759700571: 0.001, 0.039290083023712286: 0.001, 0.7874382439719977: 0.001, 0.11586568660023133: 0.001, 0.855826495698601: 0.001, 0.8755574229932415: 0.001, 0.3226208747209215: 0.001, 0.2663087103829598: 0.001, 0.5110103473868477: 0.001, 0.40852996170099787: 0.001, 0.2291952576459868: 0.001, 0.006005308687060618: 0.001, 0.3834451106688179: 0.001, 0.38393446012747057: 0.001, 0.09225426951168647: 0.001, 0.1633802811007652: 0.001, 0.1966469410163023: 0.001, 0.005333668918570567: 0.001, 0.5595893017117733: 0.001, 0.2247191846877007: 0.001, 0.10091037363046407: 0.001, 0.4001879820799412: 0.001, 0.004281769156861737: 0.001, 0.3697575720395496: 0.001, 0.8437843685625724: 0.001, 0.19326477169667555: 0.001, 0.30691855487350095: 0.001, 0.8609672186762519: 0.001, 0.03859477963997615: 0.001, 0.589662101661325: 0.001, 0.6347580994761323: 0.001, 0.7886011129727635: 0.001, 0.7159307921556818: 0.001, 0.7749958658539562: 0.001, 0.6735243258073095: 0.001, 0.24288273647143221: 0.001, 0.9040298364295759: 0.001, 0.7454645646618854: 0.001, 0.8391444773734898: 0.001, 0.8592404751306585: 0.001, 0.12221942056236434: 0.001, 0.5936854633412398: 0.001, 0.6873164113630047: 0.001, 0.1993564571578258: 0.001, 0.706503818077959: 0.001, 0.22231292107974465: 0.001, 0.39372069776544494: 0.001, 0.7898717003172908: 0.001, 0.9807603858063009: 0.001, 0.7599698803296197: 0.001, 0.6608301277466873: 0.001, 0.9389842641639414: 0.001, 0.43107673795213597: 0.001, 0.5327215589850521: 0.001, 0.7394946934161895: 0.001, 0.32371260718569084: 0.001, 0.7423918125622321: 0.001, 0.6801846309455046: 0.001, 0.6902665008885367: 0.001, 0.43054004400026746: 0.001, 0.5947349726288481: 0.001, 0.5407966300655583: 0.001, 0.8108056164377337: 0.001, 0.8005952313293708: 0.001, 0.08115497112966319: 0.001, 0.8754805028006235: 0.001, 0.2360988670088756: 0.001, 0.11778661468887086: 0.001, 0.9968973993044028: 0.001, 0.3316111606620885: 0.001, 0.050422007048100737: 0.001, 0.8250358872669755: 0.001, 0.4720184265940317: 0.001, 0.5137406503057624: 0.001, 0.3562130548512169: 0.001, 0.7535011346357676: 0.001, 0.8573489548306003: 0.001, 0.7120775964318462: 0.001, 0.8000011581911133: 0.001, 0.4205745337385658: 0.001, 0.7770268821015035: 0.001, 0.8775535687366479: 0.001, 0.018231724142650174: 0.001, 0.9121841121016201: 0.001, 0.3082614485913212: 0.001, 0.2682456101052698: 0.001, 0.6345630940901211: 0.001, 0.8855349607619231: 0.001, 0.43245051091925346: 0.001, 0.7584551127503211: 0.001, 0.7752614193126276: 0.001, 0.7846463411776649: 0.001, 0.7644816959646233: 0.001, 0.049889454254208876: 0.001, 0.788141634291381: 0.001, 0.3763847499892733: 0.001, 0.22239368400693227: 0.001, 0.26638446060632104: 0.001, 0.05859333061112593: 0.001, 0.5108368767365509: 0.001, 0.5359632394911711: 0.001, 0.5947036122223182: 0.001, 0.5384414773267641: 0.001, 0.7848295178136435: 0.001, 0.12264343938052236: 0.001, 0.26833492708279705: 0.001, 0.6787835606780659: 0.001, 0.2831267372635782: 0.001, 0.7515898925442265: 0.001, 0.6509842979563366: 0.001, 0.1837857279530597: 0.001, 0.9289878436143688: 0.001, 0.3643942105132961: 0.001, 0.4733150659022448: 0.001, 0.7665744161710737: 0.001, 0.9151394074487328: 0.001, 0.42309790586491625: 0.001, 0.8183183642041795: 0.001, 0.24173783225622747: 0.001, 0.30804926532881105: 0.001, 0.11433215923321538: 0.001, 0.9527710539078313: 0.001, 0.05973921715197139: 0.001, 0.12414374284058427: 0.001, 0.9759722702815496: 0.001, 0.661898118586053: 0.001, 0.2695937179423431: 0.001, 0.9464273197949422: 0.001, 0.36051807224628574: 0.001, 0.08672137853963091: 0.001, 0.3327065357396727: 0.001, 0.8696791235077581: 0.001, 0.4277242301599049: 0.001, 0.7990486186159848: 0.001, 0.4401299557554831: 0.001, 0.15881531686927608: 0.001, 0.4154286285697716: 0.001, 0.01572324606315767: 0.001, 0.39643307183340315: 0.001, 0.832573438717955: 0.001, 0.8109892321498763: 0.001, 0.28892455235159953: 0.001, 0.765332822079468: 0.001, 0.2231309954297661: 0.001, 0.5063172914171501: 0.001, 0.8436459293168377: 0.001, 0.70286852607389: 0.001, 0.6892086672634962: 0.001, 0.0084732188115072: 0.001, 0.7674757383204022: 0.001, 0.44462184971239205: 0.001, 0.09130140755671579: 0.001, 0.8601806480915384: 0.001, 0.35531675599874: 0.001, 0.679373628850048: 0.001, 0.5378032818113344: 0.001, 0.8345251095749474: 0.001, 0.8282135518558155: 0.001, 0.09019949840553332: 0.001, 0.4955933590713997: 0.001, 0.6894024751750069: 0.001, 0.170991385513086: 0.001, 0.0815619152590148: 0.001, 0.12002946921915936: 0.001, 0.7827133897829839: 0.001, 0.464560575795791: 0.001, 0.8979070196943896: 0.001, 0.42014480066144555: 0.001, 0.7565158929894988: 0.001, 0.7174451877298328: 0.001, 0.29447854092737724: 0.001, 0.3574738321945896: 0.001, 0.5776966055552837: 0.001, 0.9806903133696914: 0.001, 0.5407235636199889: 0.001}, 'Random')"
      ]
     },
     "execution_count": 172,
     "metadata": {},
     "output_type": "execute_result"
    }
   ],
   "source": [
    "random_pmf"
   ]
  },
  {
   "cell_type": "code",
   "execution_count": 173,
   "id": "0c23ecad",
   "metadata": {},
   "outputs": [
    {
     "data": {
      "image/png": "[encoded data removed]",
      "text/plain": [
       "<Figure size 432x288 with 1 Axes>"
      ]
     },
     "metadata": {
      "needs_background": "light"
     },
     "output_type": "display_data"
    }
   ],
   "source": [
    "thinkplot.PrePlot(2)\n",
    "thinkplot.Hist(random_pmf, align='right', width=width)\n",
    "thinkplot.Config(xlabel='Random Number', ylabel='PMF')"
   ]
  },
  {
   "cell_type": "markdown",
   "id": "0fcd8430",
   "metadata": {},
   "source": [
    "The code is a block because the probability of each random number occurring is the same. "
   ]
  },
  {
   "cell_type": "code",
   "execution_count": 174,
   "id": "4b91ad7d",
   "metadata": {},
   "outputs": [
    {
     "data": {
      "image/png": "[encoded data removed]",
      "text/plain": [
       "<Figure size 432x288 with 1 Axes>"
      ]
     },
     "metadata": {
      "needs_background": "light"
     },
     "output_type": "display_data"
    }
   ],
   "source": [
    "random_cdf = thinkstats2.Cdf(random_array, label='Random')\n",
    "thinkplot.Cdf(random_cdf)\n",
    "thinkplot.Config(xlabel='Number', ylabel='CDF', loc='upper left')"
   ]
  },
  {
   "cell_type": "markdown",
   "id": "96583754",
   "metadata": {},
   "source": [
    "The distribution is uniform because the percentiles are the same length for each section."
   ]
  },
  {
   "cell_type": "code",
   "execution_count": null,
   "id": "0ff6d0ab",
   "metadata": {},
   "outputs": [],
   "source": []
  }
 ],
 "metadata": {
  "kernelspec": {
   "display_name": "Python 3 (ipykernel)",
   "language": "python",
   "name": "python3"
  },
  "language_info": {
   "codemirror_mode": {
    "name": "ipython",
    "version": 3
   },
   "file_extension": ".py",
   "mimetype": "text/x-python",
   "name": "python",
   "nbconvert_exporter": "python",
   "pygments_lexer": "ipython3",
   "version": "3.9.7"
  }
 },
 "nbformat": 4,
 "nbformat_minor": 5
}
